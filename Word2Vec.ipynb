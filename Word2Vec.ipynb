{
 "cells": [
  {
   "cell_type": "code",
   "execution_count": 22,
   "metadata": {
    "collapsed": true
   },
   "outputs": [],
   "source": [
    "# importing all necessary modules\n",
    "\n",
    "from nltk.tokenize import sent_tokenize, word_tokenize\n",
    "import warnings\n",
    "import nltk"
   ]
  },
  {
   "cell_type": "code",
   "execution_count": 23,
   "metadata": {
    "collapsed": true
   },
   "outputs": [],
   "source": [
    "warnings.filterwarnings(action = 'ignore')"
   ]
  },
  {
   "cell_type": "code",
   "execution_count": 24,
   "metadata": {
    "collapsed": true
   },
   "outputs": [],
   "source": [
    "import gensim\n",
    "from gensim.models import Word2Vec"
   ]
  },
  {
   "cell_type": "code",
   "execution_count": 25,
   "metadata": {
    "collapsed": true
   },
   "outputs": [],
   "source": [
    "# Read 'alice.txt' file\n",
    "\n",
    "sample = open(\"alice30.txt\", \"r\")\n",
    "s = sample.read()"
   ]
  },
  {
   "cell_type": "code",
   "execution_count": 26,
   "metadata": {
    "collapsed": true
   },
   "outputs": [],
   "source": [
    "# Replaces escape character with space\n",
    "\n",
    "f = s.replace(\"\\n\", \" \")"
   ]
  },
  {
   "cell_type": "code",
   "execution_count": 27,
   "metadata": {},
   "outputs": [
    {
     "name": "stderr",
     "output_type": "stream",
     "text": [
      "[nltk_data] Downloading package punkt to /home/aiml/nltk_data...\n",
      "[nltk_data]   Package punkt is already up-to-date!\n"
     ]
    },
    {
     "data": {
      "text/plain": [
       "True"
      ]
     },
     "execution_count": 27,
     "metadata": {},
     "output_type": "execute_result"
    }
   ],
   "source": [
    "nltk.download('punkt')"
   ]
  },
  {
   "cell_type": "code",
   "execution_count": 28,
   "metadata": {
    "collapsed": true
   },
   "outputs": [],
   "source": [
    "data = []\n",
    "\n",
    "# iterate through each sentence in the file \n",
    "\n",
    "for i in sent_tokenize(f):\n",
    "    temp = []\n",
    "    \n",
    "    # tokenize the sentence into words\n",
    "    for j in word_tokenize(i):\n",
    "        temp.append(j.lower())\n",
    "        \n",
    "    data.append(temp)\n",
    "    \n",
    "# Create CBOW model\n",
    "\n",
    "model1 = gensim.models.Word2Vec(data, min_count = 1, size = 100, window = 5)"
   ]
  },
  {
   "cell_type": "code",
   "execution_count": 29,
   "metadata": {},
   "outputs": [
    {
     "name": "stdout",
     "output_type": "stream",
     "text": [
      "Cosine similarity between 'alice' and 'wonderland' - CBOW :  0.99873286\n",
      "Cosine similarity between 'alice' and 'machines' - CBOW :  0.9971409\n"
     ]
    }
   ],
   "source": [
    "# Print results\n",
    "\n",
    "print(\"Cosine similarity between 'alice' \" + \n",
    "               \"and 'wonderland' - CBOW : \", \n",
    "    model1.similarity('alice', 'wonderland'))\n",
    "\n",
    "print(\"Cosine similarity between 'alice' \" +\n",
    "                 \"and 'machines' - CBOW : \", \n",
    "      model1.similarity('alice', 'machines')) \n"
   ]
  },
  {
   "cell_type": "code",
   "execution_count": 30,
   "metadata": {
    "collapsed": true
   },
   "outputs": [],
   "source": [
    "# Create Skip Gram model \n",
    "model2 = gensim.models.Word2Vec(data, min_count = 1, size = 100, \n",
    "                                             window = 5, sg = 1) "
   ]
  },
  {
   "cell_type": "code",
   "execution_count": 31,
   "metadata": {},
   "outputs": [
    {
     "name": "stdout",
     "output_type": "stream",
     "text": [
      "Cosine similarity between 'alice' and 'wonderland' - Skip Gram :  0.96515113\n",
      "Cosine similarity between 'alice' and 'machines' - Skip Gram :  0.9652463\n"
     ]
    }
   ],
   "source": [
    "# Print results \n",
    "print(\"Cosine similarity between 'alice' \" +\n",
    "          \"and 'wonderland' - Skip Gram : \", \n",
    "    model2.similarity('alice', 'wonderland')) \n",
    "      \n",
    "print(\"Cosine similarity between 'alice' \" +\n",
    "            \"and 'machines' - Skip Gram : \", \n",
    "      model2.similarity('alice', 'machines')) "
   ]
  },
  {
   "cell_type": "code",
   "execution_count": 32,
   "metadata": {},
   "outputs": [
    {
     "name": "stdout",
     "output_type": "stream",
     "text": [
      "['***this', 'is', 'the', 'project', 'gutenberg', 'etext', 'of', 'alice', 'in', 'wonderland***']\n"
     ]
    }
   ],
   "source": [
    "words = list(model1.wv.vocab)\n",
    "print(words[0:10])"
   ]
  },
  {
   "cell_type": "code",
   "execution_count": 33,
   "metadata": {},
   "outputs": [
    {
     "name": "stdout",
     "output_type": "stream",
     "text": [
      "[ 7.58305425e-03 -3.06288013e-03 -2.35199160e-03  1.65578141e-03\n",
      "  1.21268979e-03  4.59392508e-03  1.24510622e-03  5.55230351e-03\n",
      " -4.09542629e-03 -1.02911806e-02 -1.15982145e-02  1.80185027e-02\n",
      "  7.71264662e-04  7.08778249e-03  6.19954313e-04  1.39054144e-02\n",
      "  5.00373775e-03 -3.76957905e-06  7.77323847e-04  1.28440475e-02\n",
      " -8.28337576e-03 -5.35672356e-04  5.56898164e-03  1.34300608e-02\n",
      " -1.24028977e-02  1.34323724e-02 -1.22789796e-02  1.16335517e-02\n",
      " -3.70077978e-05 -1.07651288e-02  1.67933125e-02 -2.01893062e-03\n",
      "  7.28344033e-03 -7.00195786e-04 -1.25227319e-02  8.53547920e-03\n",
      " -8.71012453e-03 -1.28778154e-02 -7.59906368e-03  2.85196700e-03\n",
      " -8.00343230e-03  4.94469563e-03 -1.34004175e-03  8.59520771e-03\n",
      "  1.67111249e-03  3.24776466e-03 -1.66521315e-03  8.49591475e-03\n",
      "  3.65552469e-03  4.61041508e-03 -4.25732229e-03 -9.71785339e-04\n",
      " -5.40741161e-03 -2.19334308e-02  4.04618634e-03  8.62463191e-03\n",
      "  1.81468762e-02 -3.85359302e-03 -2.06044200e-03  9.90794040e-03\n",
      " -1.13937967e-02 -1.28015466e-02 -1.22125838e-02  3.11509357e-03\n",
      " -4.73228423e-03  1.42569644e-02 -2.25856318e-03 -1.44961020e-02\n",
      " -3.42059764e-03 -5.56074176e-03 -1.27894292e-02 -6.99386047e-03\n",
      " -1.30325276e-02  6.77138241e-03  1.18325194e-02  5.96502796e-03\n",
      " -1.35603063e-02 -1.13579882e-02 -2.96312124e-02 -3.18532460e-03\n",
      " -8.40627588e-03 -2.26831972e-03 -5.14768902e-03  3.14425565e-02\n",
      "  4.89924895e-03  1.23486863e-02 -1.58174615e-02 -1.26908021e-03\n",
      " -1.22970564e-03  1.47785824e-02 -2.83374600e-02  1.17561417e-02\n",
      " -1.49142360e-02  1.64176133e-02 -5.61784254e-03  8.90899729e-03\n",
      "  1.03597278e-02 -8.13113153e-03  1.79185066e-02 -5.13382722e-04]\n"
     ]
    }
   ],
   "source": [
    "print(model1['wonderland***'])"
   ]
  },
  {
   "cell_type": "code",
   "execution_count": 34,
   "metadata": {},
   "outputs": [
    {
     "name": "stdout",
     "output_type": "stream",
     "text": [
      "['***this', 'is', 'the', 'project', 'gutenberg', 'etext', 'of', 'alice', 'in', 'wonderland***']\n"
     ]
    }
   ],
   "source": [
    "words = list(model2.wv.vocab)\n",
    "print(words[0:10])"
   ]
  },
  {
   "cell_type": "code",
   "execution_count": 35,
   "metadata": {},
   "outputs": [
    {
     "name": "stdout",
     "output_type": "stream",
     "text": [
      "[-0.01475188 -0.01447168  0.04413256  0.02380766  0.01685994 -0.00984353\n",
      " -0.00459091  0.01756448  0.00995237  0.00112938 -0.00919518  0.00220713\n",
      " -0.03517528  0.05140605 -0.0351788   0.05734632  0.04314349 -0.02568661\n",
      "  0.01360118  0.06691274 -0.04189726  0.0062121   0.00187247  0.03888896\n",
      "  0.00136662  0.04032243  0.03376995 -0.00306748  0.00642372 -0.00906681\n",
      "  0.03119656  0.01613782  0.08720468 -0.01768069 -0.0407053  -0.00394413\n",
      " -0.02490584 -0.03396938  0.00161555 -0.02334962  0.04099999 -0.01456764\n",
      " -0.06406929  0.05385987  0.00459859 -0.01860413  0.01110837  0.04079008\n",
      "  0.03322494  0.03887445 -0.01621595 -0.02536393 -0.07650375 -0.11310815\n",
      "  0.03910657  0.01752966  0.09857798 -0.03268899  0.01387896  0.0164108\n",
      "  0.0006492  -0.03031521 -0.06305362  0.05505472  0.02013933 -0.00521608\n",
      "  0.02493598 -0.04566977  0.0137704  -0.02213973 -0.04536699 -0.04091101\n",
      " -0.06784992 -0.01454448  0.04538874  0.02542268 -0.07862867 -0.05342646\n",
      " -0.09984634  0.0165754  -0.04803383 -0.00592258 -0.00453994  0.07911222\n",
      "  0.0012238   0.04235081 -0.02103514  0.014421    0.0009459   0.04610204\n",
      " -0.03404432  0.04061085 -0.05764514  0.02852055  0.01187015 -0.03326483\n",
      "  0.0359942  -0.04681758  0.04114546 -0.01702716]\n"
     ]
    }
   ],
   "source": [
    "print(model2['wonderland***'])"
   ]
  },
  {
   "cell_type": "code",
   "execution_count": 36,
   "metadata": {
    "collapsed": true
   },
   "outputs": [],
   "source": [
    "model1.save('model1.bin')"
   ]
  },
  {
   "cell_type": "code",
   "execution_count": 37,
   "metadata": {
    "collapsed": true
   },
   "outputs": [],
   "source": [
    "model2.wv.save_word2vec_format('model2.txt', binary=False)"
   ]
  },
  {
   "cell_type": "code",
   "execution_count": 38,
   "metadata": {
    "collapsed": true
   },
   "outputs": [],
   "source": [
    "model = Word2Vec.load('model1.bin')\n",
    "                      \n",
    "                      "
   ]
  },
  {
   "cell_type": "code",
   "execution_count": 39,
   "metadata": {},
   "outputs": [
    {
     "name": "stdout",
     "output_type": "stream",
     "text": [
      "Word2Vec(vocab=14, size=100, alpha=0.025)\n",
      "['this', 'is', 'the', 'first', 'sentence', 'for', 'word2vec', 'second', 'yet', 'another', 'one', 'more', 'and', 'final']\n",
      "[-1.3512813e-03  1.6975999e-03 -3.0944578e-03  2.2344526e-03\n",
      "  7.6717336e-04 -3.5240483e-03  3.9929869e-03  3.3501037e-03\n",
      " -2.0174992e-03 -2.5362170e-03  6.2387326e-04 -9.0164738e-04\n",
      " -1.1517925e-03 -1.3770793e-03 -2.2912577e-04  3.6387688e-03\n",
      "  1.2440794e-03 -3.1890671e-03  4.8211771e-03 -2.2304126e-03\n",
      " -1.0045315e-03  4.1174740e-03 -3.5690120e-04 -1.1414136e-03\n",
      " -5.4054317e-04 -4.7671497e-03  6.4285158e-04  4.5075109e-03\n",
      "  3.3779552e-03 -8.4748515e-04  5.9666787e-04  2.3183702e-03\n",
      "  3.8975121e-03 -3.3721467e-03  2.6117326e-03 -7.6698384e-04\n",
      " -2.8339149e-03  5.5891013e-04  1.0870930e-04 -6.9589284e-04\n",
      "  1.8539509e-03  3.6208865e-03 -2.7089526e-03 -3.7576284e-03\n",
      "  1.0007750e-03  4.9659824e-03 -4.8702485e-03  3.0877034e-03\n",
      " -3.4687093e-03 -4.6347850e-03  2.5720639e-05 -2.1981576e-03\n",
      "  1.9740493e-03 -4.4956165e-03 -4.7492958e-03 -1.8821604e-03\n",
      " -1.1649426e-03 -2.6361423e-03  4.2162547e-03  8.4130530e-04\n",
      "  7.9808076e-04 -6.9006061e-04  1.8543229e-03  4.0066038e-04\n",
      "  1.9458566e-03 -2.0623590e-04  3.5293919e-03 -4.2258133e-03\n",
      " -2.0634381e-03 -7.8456535e-05 -5.8907038e-04 -2.6279080e-04\n",
      "  3.1570862e-03 -3.3910794e-03 -4.7309129e-03  2.1567841e-03\n",
      " -8.5256033e-04  4.1168104e-03  4.8993458e-03  3.5163513e-03\n",
      " -9.3717140e-04  2.6182577e-03  1.4322072e-03  3.8693653e-04\n",
      " -1.8043847e-04  3.6733651e-03  2.3699345e-03  4.6422924e-03\n",
      " -1.7040862e-03  1.5966883e-03 -2.0392030e-03  3.0029393e-03\n",
      "  1.5699887e-03  1.6786141e-03  7.1131025e-04 -1.3897078e-03\n",
      "  1.3536428e-03 -4.4895075e-03  2.4386023e-03  6.6891022e-04]\n",
      "Word2Vec(vocab=14, size=100, alpha=0.025)\n"
     ]
    }
   ],
   "source": [
    "# define training data\n",
    "sentences = [['this', 'is', 'the', 'first', 'sentence', 'for', 'word2vec'],\n",
    "['this', 'is', 'the', 'second', 'sentence'],\n",
    "['yet', 'another', 'sentence'],\n",
    "['one', 'more', 'sentence'],\n",
    "['and', 'the', 'final', 'sentence']]\n",
    "# train model\n",
    "model = Word2Vec(sentences, min_count=1)\n",
    "# summarize the loaded model\n",
    "print(model)\n",
    "# summarize vocabulary\n",
    "words = list(model.wv.vocab)\n",
    "print(words)\n",
    "# access vector for one word\n",
    "print(model['sentence'])\n",
    "# save model\n",
    "model.save('model.bin')\n",
    "# load model\n",
    "new_model = Word2Vec.load('model.bin')\n",
    "print(new_model)"
   ]
  },
  {
   "cell_type": "code",
   "execution_count": 40,
   "metadata": {},
   "outputs": [
    {
     "data": {
      "image/png": "[encoded data removed]",
      "text/plain": [
       "<Figure size 432x288 with 1 Axes>"
      ]
     },
     "metadata": {
      "needs_background": "light"
     },
     "output_type": "display_data"
    }
   ],
   "source": [
    "from gensim.models import Word2Vec\n",
    "from sklearn.decomposition import PCA\n",
    "from matplotlib import pyplot\n",
    "%matplotlib inline\n",
    "# define training data\n",
    "sentences = [['this', 'is', 'the', 'first', 'sentence', 'for', 'word2vec'],\n",
    "['this', 'is', 'the', 'second', 'sentence'],\n",
    "['yet', 'another', 'sentence'],\n",
    "['one', 'more', 'sentence'],\n",
    "['and', 'the', 'final', 'sentence']]\n",
    "# train model\n",
    "model = Word2Vec(sentences, min_count=1)\n",
    "# fit a 2d PCA model to the vectors\n",
    "X = model[model.wv.vocab]\n",
    "pca = PCA(n_components=2)\n",
    "result = pca.fit_transform(X)\n",
    "# create a scatter plot of the projection\n",
    "pyplot.scatter(result[:, 0], result[:, 1])\n",
    "words = list(model.wv.vocab)\n",
    "for i, word in enumerate(words):\n",
    "    pyplot.annotate(word, xy=(result[i, 0], result[i, 1]))\n",
    "pyplot.show()"
   ]
  },
  {
   "cell_type": "markdown",
   "metadata": {},
   "source": [
    "## ref: https://medium.com/ml2vec/using-word2vec-to-analyze-reddit-comments-28945d8cee57"
   ]
  },
  {
   "cell_type": "code",
   "execution_count": 41,
   "metadata": {
    "collapsed": true
   },
   "outputs": [],
   "source": [
    "from sklearn.cluster import KMeans\n",
    "from sklearn.neighbors import KDTree\n",
    "import pandas as pd\n",
    "import numpy as np\n",
    "import os\n",
    "import re\n",
    "import logging\n",
    "import sqlite3\n",
    "import time\n",
    "import sys\n",
    "import multiprocessing\n",
    "from wordcloud import WordCloud, ImageColorGenerator\n",
    "import matplotlib.pyplot as plt\n",
    "from itertools import cycle"
   ]
  },
  {
   "cell_type": "code",
   "execution_count": null,
   "metadata": {
    "collapsed": true
   },
   "outputs": [],
   "source": []
  }
 ],
 "metadata": {
  "kernelspec": {
   "display_name": "Python 3",
   "language": "python",
   "name": "python3"
  },
  "language_info": {
   "codemirror_mode": {
    "name": "ipython",
    "version": 3
   },
   "file_extension": ".py",
   "mimetype": "text/x-python",
   "name": "python",
   "nbconvert_exporter": "python",
   "pygments_lexer": "ipython3",
   "version": "3.6.2"
  }
 },
 "nbformat": 4,
 "nbformat_minor": 2
}
