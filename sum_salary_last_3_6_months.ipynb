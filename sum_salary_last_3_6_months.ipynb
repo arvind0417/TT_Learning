{
 "cells": [
  {
   "cell_type": "code",
   "execution_count": 85,
   "metadata": {},
   "outputs": [],
   "source": [
    "from pyspark.sql import SparkSession\n",
    "from pyspark.sql.types import DateType, FloatType\n",
    "from pyspark.sql.functions import col, sum, count\n",
    "import datetime\n"
   ]
  },
  {
   "cell_type": "code",
   "execution_count": 86,
   "metadata": {
    "collapsed": true
   },
   "outputs": [],
   "source": [
    "spark = SparkSession.builder.appName('SparkByExamples').getOrCreate()"
   ]
  },
  {
   "cell_type": "code",
   "execution_count": 87,
   "metadata": {},
   "outputs": [
    {
     "name": "stdout",
     "output_type": "stream",
     "text": [
      "root\n",
      " |-- account: string (nullable = true)\n",
      " |-- date: string (nullable = true)\n",
      " |-- transaction: long (nullable = true)\n",
      "\n"
     ]
    },
    {
     "data": {
      "text/plain": [
       "[Row(account='account1', date='2020-01-01', transaction=10000),\n",
       " Row(account='account1', date='2020-02-01', transaction=10000),\n",
       " Row(account='account1', date='2020-03-01', transaction=10000),\n",
       " Row(account='account1', date='2020-04-01', transaction=10000),\n",
       " Row(account='account1', date='2020-05-01', transaction=10000),\n",
       " Row(account='account1', date='2020-06-01', transaction=10000),\n",
       " Row(account='account1', date='2020-07-01', transaction=10000),\n",
       " Row(account='account1', date='2020-08-01', transaction=10000),\n",
       " Row(account='account1', date='2020-09-01', transaction=10000),\n",
       " Row(account='account1', date='2020-09-05', transaction=10000),\n",
       " Row(account='account2', date='2020-10-01', transaction=10000),\n",
       " Row(account='account1', date='2020-10-06', transaction=10000),\n",
       " Row(account='account1', date='2020-11-01', transaction=10000),\n",
       " Row(account='account1', date='2020-11-03', transaction=10000),\n",
       " Row(account='account3', date='2020-12-01', transaction=10000),\n",
       " Row(account='account1', date='2020-12-04', transaction=10000),\n",
       " Row(account='account1', date='2020-05-01', transaction=10000),\n",
       " Row(account='account1', date='2021-01-01', transaction=10000),\n",
       " Row(account='account1', date='2021-01-05', transaction=10000),\n",
       " Row(account='account1', date='2021-02-01', transaction=10000),\n",
       " Row(account='account1', date='2021-05-05', transaction=10000),\n",
       " Row(account='account1', date='01-06-2020', transaction=10000),\n",
       " Row(account='account1', date='01-08-2020', transaction=10000),\n",
       " Row(account='account1', date='01-10-2020', transaction=10000),\n",
       " Row(account='account2', date='01-12-2020', transaction=10000),\n",
       " Row(account='account2', date='01-01-2021', transaction=10000),\n",
       " Row(account='account1', date='01-02-2021', transaction=10000),\n",
       " Row(account='account2', date='01-03-2021', transaction=10000),\n",
       " Row(account='account1', date='2021-03-04', transaction=10000),\n",
       " Row(account='account3', date='2021-03-05', transaction=10000)]"
      ]
     },
     "execution_count": 87,
     "metadata": {},
     "output_type": "execute_result"
    }
   ],
   "source": [
    "simpleData = [(\"account1\",\"2020-01-01\",10000), \\\n",
    "    (\"account1\",\"2020-02-01\",10000), \\\n",
    "    (\"account1\",\"2020-03-01\",10000), \\\n",
    "    (\"account1\",\"2020-04-01\",10000), \\\n",
    "    (\"account1\",\"2020-05-01\",10000), \\\n",
    "    (\"account1\",\"2020-06-01\",10000), \\\n",
    "    (\"account1\",\"2020-07-01\",10000), \\\n",
    "    (\"account1\",\"2020-08-01\",10000), \\\n",
    "    (\"account1\",\"2020-09-01\",10000), \\\n",
    "    (\"account1\",\"2020-09-05\",10000), \\\n",
    "    (\"account2\",\"2020-10-01\",10000), \\\n",
    "    (\"account1\",\"2020-10-06\",10000), \\\n",
    "    (\"account1\",\"2020-11-01\",10000), \\\n",
    "    (\"account1\",\"2020-11-03\",10000), \\\n",
    "    (\"account3\",\"2020-12-01\",10000), \\\n",
    "    (\"account1\",\"2020-12-04\",10000), \\\n",
    "    (\"account1\",\"2020-05-01\",10000), \\\n",
    "    (\"account1\",\"2021-01-01\",10000), \\\n",
    "    (\"account1\",\"2021-01-05\",10000), \\\n",
    "    (\"account1\",\"2021-02-01\",10000), \\\n",
    "    (\"account1\",\"2021-05-05\",10000), \\\n",
    "    (\"account1\",\"01-06-2020\",10000), \\\n",
    "    (\"account1\",\"01-08-2020\",10000), \\\n",
    "    (\"account1\",\"01-10-2020\",10000), \\\n",
    "    (\"account2\",\"01-12-2020\",10000), \\\n",
    "    (\"account2\",\"01-01-2021\",10000), \\\n",
    "    (\"account1\",\"01-02-2021\",10000), \\\n",
    "    (\"account2\",\"01-03-2021\",10000), \\\n",
    "    (\"account1\",\"2021-03-04\",10000), \\\n",
    "    (\"account3\",\"2021-03-05\",10000) \\\n",
    "  ]\n",
    "\n",
    "columns= [\"account\",\"date\",\"transaction\"]\n",
    "df = spark.createDataFrame(data = simpleData, schema = columns)\n",
    "df.printSchema()\n",
    "df.collect()"
   ]
  },
  {
   "cell_type": "code",
   "execution_count": 88,
   "metadata": {},
   "outputs": [
    {
     "name": "stdout",
     "output_type": "stream",
     "text": [
      "root\n",
      " |-- account: string (nullable = true)\n",
      " |-- date: date (nullable = true)\n",
      " |-- transaction: float (nullable = true)\n",
      "\n"
     ]
    }
   ],
   "source": [
    "df = df.withColumn(\"date\", col(\"date\").cast(DateType())).withColumn(\"transaction\", col(\"transaction\").cast(FloatType()))\n",
    "df.printSchema()"
   ]
  },
  {
   "cell_type": "code",
   "execution_count": 89,
   "metadata": {},
   "outputs": [
    {
     "name": "stdout",
     "output_type": "stream",
     "text": [
      "+--------+----------+-----------+\n",
      "| account|      date|transaction|\n",
      "+--------+----------+-----------+\n",
      "|account1|2020-01-01|    10000.0|\n",
      "|account1|2020-02-01|    10000.0|\n",
      "|account1|2020-03-01|    10000.0|\n",
      "|account1|2020-04-01|    10000.0|\n",
      "|account1|2020-05-01|    10000.0|\n",
      "|account1|2020-06-01|    10000.0|\n",
      "|account1|2020-07-01|    10000.0|\n",
      "|account1|2020-08-01|    10000.0|\n",
      "|account1|2020-09-01|    10000.0|\n",
      "|account1|2020-09-05|    10000.0|\n",
      "|account2|2020-10-01|    10000.0|\n",
      "|account1|2020-10-06|    10000.0|\n",
      "|account1|2020-11-01|    10000.0|\n",
      "|account1|2020-11-03|    10000.0|\n",
      "|account3|2020-12-01|    10000.0|\n",
      "|account1|2020-12-04|    10000.0|\n",
      "|account1|2020-05-01|    10000.0|\n",
      "|account1|2021-01-01|    10000.0|\n",
      "|account1|2021-01-05|    10000.0|\n",
      "|account1|2021-02-01|    10000.0|\n",
      "+--------+----------+-----------+\n",
      "only showing top 20 rows\n",
      "\n"
     ]
    }
   ],
   "source": [
    "df.show()"
   ]
  },
  {
   "cell_type": "code",
   "execution_count": 90,
   "metadata": {},
   "outputs": [
    {
     "data": {
      "text/plain": [
       "'2021-03-20'"
      ]
     },
     "execution_count": 90,
     "metadata": {},
     "output_type": "execute_result"
    }
   ],
   "source": [
    "from datetime import date\n",
    "now = date.today()\n",
    "str(now)"
   ]
  },
  {
   "cell_type": "code",
   "execution_count": 98,
   "metadata": {},
   "outputs": [],
   "source": [
    "from_date = now - datetime.timedelta(days = 90)\n",
    "from_date1 = now - datetime.timedelta(days = 120)\n"
   ]
  },
  {
   "cell_type": "code",
   "execution_count": 92,
   "metadata": {},
   "outputs": [
    {
     "name": "stdout",
     "output_type": "stream",
     "text": [
      "+--------+----------+-----------+\n",
      "| account|      date|transaction|\n",
      "+--------+----------+-----------+\n",
      "|account1|2021-01-01|    10000.0|\n",
      "|account1|2021-01-05|    10000.0|\n",
      "|account1|2021-02-01|    10000.0|\n",
      "|account1|2021-05-05|    10000.0|\n",
      "|account1|2021-03-04|    10000.0|\n",
      "|account3|2021-03-05|    10000.0|\n",
      "+--------+----------+-----------+\n",
      "\n"
     ]
    }
   ],
   "source": [
    "df.filter(col(\"date\") > from_date).show()"
   ]
  },
  {
   "cell_type": "code",
   "execution_count": 104,
   "metadata": {},
   "outputs": [
    {
     "name": "stdout",
     "output_type": "stream",
     "text": [
      "+--------+-----------------------+\n",
      "| account|sum_transactions_last3m|\n",
      "+--------+-----------------------+\n",
      "|account1|                50000.0|\n",
      "|account3|                10000.0|\n",
      "+--------+-----------------------+\n",
      "\n"
     ]
    }
   ],
   "source": [
    "df1 = df.filter(col(\"date\") > from_date).groupby(\"account\").agg(sum(\"transaction\").alias(\"sum_transactions_last3m\"))\n",
    "df1.show()"
   ]
  },
  {
   "cell_type": "code",
   "execution_count": 105,
   "metadata": {},
   "outputs": [
    {
     "name": "stdout",
     "output_type": "stream",
     "text": [
      "+--------+-----------------------+\n",
      "| account|sum_transactions_last6m|\n",
      "+--------+-----------------------+\n",
      "|account1|                60000.0|\n",
      "|account3|                20000.0|\n",
      "+--------+-----------------------+\n",
      "\n"
     ]
    }
   ],
   "source": [
    "df2 = df.filter(col(\"date\") > from_date1).groupby(\"account\").agg(sum(\"transaction\").alias(\"sum_transactions_last6m\"))\n",
    "df2.show()"
   ]
  },
  {
   "cell_type": "code",
   "execution_count": 106,
   "metadata": {},
   "outputs": [
    {
     "name": "stdout",
     "output_type": "stream",
     "text": [
      "+--------+-----------------------+-----------------------+\n",
      "| account|sum_transactions_last3m|sum_transactions_last6m|\n",
      "+--------+-----------------------+-----------------------+\n",
      "|account1|                50000.0|                60000.0|\n",
      "|account3|                10000.0|                20000.0|\n",
      "+--------+-----------------------+-----------------------+\n",
      "\n"
     ]
    }
   ],
   "source": [
    "df3 = df1.join(df2, on = \"account\", how = \"inner\")\n",
    "df3.show()"
   ]
  },
  {
   "cell_type": "code",
   "execution_count": null,
   "metadata": {
    "collapsed": true
   },
   "outputs": [],
   "source": []
  }
 ],
 "metadata": {
  "kernelspec": {
   "display_name": "Python 3",
   "language": "python",
   "name": "python3"
  },
  "language_info": {
   "codemirror_mode": {
    "name": "ipython",
    "version": 3
   },
   "file_extension": ".py",
   "mimetype": "text/x-python",
   "name": "python",
   "nbconvert_exporter": "python",
   "pygments_lexer": "ipython3",
   "version": "3.6.2"
  }
 },
 "nbformat": 4,
 "nbformat_minor": 2
}
