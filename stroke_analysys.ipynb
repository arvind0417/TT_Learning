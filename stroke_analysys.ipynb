{
 "cells": [
  {
   "cell_type": "code",
   "execution_count": 278,
   "metadata": {
    "collapsed": true
   },
   "outputs": [],
   "source": [
    "from pyspark.sql import SparkSession\n",
    "from pyspark.sql.functions import *\n",
    "from pyspark.sql.types import IntegerType"
   ]
  },
  {
   "cell_type": "code",
   "execution_count": 279,
   "metadata": {
    "collapsed": true
   },
   "outputs": [],
   "source": [
    "spark = SparkSession.builder \\\n",
    "        .master(\"local[4]\") \\\n",
    "        .appName(\"stroke analysis\") \\\n",
    "        .getOrCreate()"
   ]
  },
  {
   "cell_type": "code",
   "execution_count": 280,
   "metadata": {},
   "outputs": [
    {
     "name": "stdout",
     "output_type": "stream",
     "text": [
      "+-----+------+---+------------+-------------+------------+-------------+--------------+-----------------+----+---------------+------+\n",
      "|   id|gender|age|hypertension|heart_disease|ever_married|    work_type|Residence_type|avg_glucose_level| bmi| smoking_status|stroke|\n",
      "+-----+------+---+------------+-------------+------------+-------------+--------------+-----------------+----+---------------+------+\n",
      "|30669|  Male|  3|           0|            0|          No|     children|         Rural|            95.12|  18|           null|     0|\n",
      "|30468|  Male| 58|           1|            0|         Yes|      Private|         Urban|            87.96|39.2|   never smoked|     0|\n",
      "|16523|Female|  8|           0|            0|          No|      Private|         Urban|           110.89|17.6|           null|     0|\n",
      "|56543|Female| 70|           0|            0|         Yes|      Private|         Rural|            69.04|35.9|formerly smoked|     0|\n",
      "|46136|  Male| 14|           0|            0|          No| Never_worked|         Rural|           161.28|19.1|           null|     0|\n",
      "|32257|Female| 47|           0|            0|         Yes|      Private|         Urban|           210.95|50.1|           null|     0|\n",
      "|52800|Female| 52|           0|            0|         Yes|      Private|         Urban|            77.59|17.7|formerly smoked|     0|\n",
      "|41413|Female| 75|           0|            1|         Yes|Self-employed|         Rural|           243.53|  27|   never smoked|     0|\n",
      "|15266|Female| 32|           0|            0|         Yes|      Private|         Rural|            77.67|32.3|         smokes|     0|\n",
      "|28674|Female| 74|           1|            0|         Yes|Self-employed|         Urban|           205.84|54.6|   never smoked|     0|\n",
      "|10460|Female| 79|           0|            0|         Yes|     Govt_job|         Urban|            77.08|  35|           null|     0|\n",
      "|64908|  Male| 79|           0|            1|         Yes|      Private|         Urban|            57.08|  22|formerly smoked|     0|\n",
      "|63884|Female| 37|           0|            0|         Yes|      Private|         Rural|           162.96|39.4|   never smoked|     0|\n",
      "|37893|Female| 37|           0|            0|         Yes|      Private|         Rural|             73.5|26.1|formerly smoked|     0|\n",
      "|67855|Female| 40|           0|            0|         Yes|      Private|         Rural|            95.04|42.4|   never smoked|     0|\n",
      "|25774|  Male| 35|           0|            0|          No|      Private|         Rural|            85.37|  33|   never smoked|     0|\n",
      "|19584|Female| 20|           0|            0|          No|      Private|         Urban|            84.62|19.7|         smokes|     0|\n",
      "|24447|Female| 42|           0|            0|         Yes|      Private|         Rural|            82.67|22.5|   never smoked|     0|\n",
      "|49589|Female| 44|           0|            0|         Yes|     Govt_job|         Urban|            57.33|24.6|         smokes|     0|\n",
      "|17986|Female| 79|           0|            1|         Yes|Self-employed|         Urban|            67.84|25.2|         smokes|     0|\n",
      "+-----+------+---+------------+-------------+------------+-------------+--------------+-----------------+----+---------------+------+\n",
      "only showing top 20 rows\n",
      "\n"
     ]
    }
   ],
   "source": [
    "healthdata = spark.read.csv(\"./healthcarestrokedata/train_2v.csv\", header= True)\n",
    "healthdata.show()"
   ]
  },
  {
   "cell_type": "code",
   "execution_count": 281,
   "metadata": {},
   "outputs": [
    {
     "data": {
      "text/plain": [
       "43400"
      ]
     },
     "execution_count": 281,
     "metadata": {},
     "output_type": "execute_result"
    }
   ],
   "source": [
    "healthdata.count()"
   ]
  },
  {
   "cell_type": "code",
   "execution_count": 282,
   "metadata": {},
   "outputs": [
    {
     "data": {
      "text/plain": [
       "['id',\n",
       " 'gender',\n",
       " 'age',\n",
       " 'hypertension',\n",
       " 'heart_disease',\n",
       " 'ever_married',\n",
       " 'work_type',\n",
       " 'Residence_type',\n",
       " 'avg_glucose_level',\n",
       " 'bmi',\n",
       " 'smoking_status',\n",
       " 'stroke']"
      ]
     },
     "execution_count": 282,
     "metadata": {},
     "output_type": "execute_result"
    }
   ],
   "source": [
    "healthdata.columns"
   ]
  },
  {
   "cell_type": "code",
   "execution_count": 283,
   "metadata": {},
   "outputs": [
    {
     "name": "stdout",
     "output_type": "stream",
     "text": [
      "root\n",
      " |-- id: string (nullable = true)\n",
      " |-- gender: string (nullable = true)\n",
      " |-- age: string (nullable = true)\n",
      " |-- hypertension: string (nullable = true)\n",
      " |-- heart_disease: string (nullable = true)\n",
      " |-- ever_married: string (nullable = true)\n",
      " |-- work_type: string (nullable = true)\n",
      " |-- Residence_type: string (nullable = true)\n",
      " |-- avg_glucose_level: string (nullable = true)\n",
      " |-- bmi: string (nullable = true)\n",
      " |-- smoking_status: string (nullable = true)\n",
      " |-- stroke: string (nullable = true)\n",
      "\n"
     ]
    }
   ],
   "source": [
    "healthdata.printSchema()"
   ]
  },
  {
   "cell_type": "code",
   "execution_count": 284,
   "metadata": {
    "collapsed": true
   },
   "outputs": [],
   "source": [
    "healthdata = healthdata.withColumn(\"age\",col(\"age\").cast(IntegerType())) \\\n",
    ".withColumn(\"hypertension\", col(\"hypertension\").cast(IntegerType())) \\\n",
    ".withColumn(\"heart_disease\", col(\"heart_disease\").cast(IntegerType())) \\\n",
    ".withColumn(\"avg_glucose_level\", col(\"avg_glucose_level\").cast(IntegerType())) \\\n",
    ".withColumn(\"bmi\", col(\"bmi\").cast(IntegerType())) \\\n",
    ".withColumn(\"stroke\", col(\"stroke\").cast(IntegerType()))"
   ]
  },
  {
   "cell_type": "code",
   "execution_count": 285,
   "metadata": {},
   "outputs": [
    {
     "data": {
      "text/plain": [
       "[('id', 'string'),\n",
       " ('gender', 'string'),\n",
       " ('age', 'int'),\n",
       " ('hypertension', 'int'),\n",
       " ('heart_disease', 'int'),\n",
       " ('ever_married', 'string'),\n",
       " ('work_type', 'string'),\n",
       " ('Residence_type', 'string'),\n",
       " ('avg_glucose_level', 'int'),\n",
       " ('bmi', 'int'),\n",
       " ('smoking_status', 'string'),\n",
       " ('stroke', 'int')]"
      ]
     },
     "execution_count": 285,
     "metadata": {},
     "output_type": "execute_result"
    }
   ],
   "source": [
    "healthdata.dtypes"
   ]
  },
  {
   "cell_type": "code",
   "execution_count": 286,
   "metadata": {},
   "outputs": [
    {
     "data": {
      "text/plain": [
       "DataFrame[summary: string, id: string, gender: string, age: string, hypertension: string, heart_disease: string, ever_married: string, work_type: string, Residence_type: string, avg_glucose_level: string, bmi: string, smoking_status: string, stroke: string]"
      ]
     },
     "execution_count": 286,
     "metadata": {},
     "output_type": "execute_result"
    }
   ],
   "source": [
    "healthdata.describe()"
   ]
  },
  {
   "cell_type": "code",
   "execution_count": 287,
   "metadata": {},
   "outputs": [
    {
     "name": "stdout",
     "output_type": "stream",
     "text": [
      "+------+-----+\n",
      "|stroke|count|\n",
      "+------+-----+\n",
      "|     1|  783|\n",
      "|     0|42617|\n",
      "+------+-----+\n",
      "\n"
     ]
    }
   ],
   "source": [
    "healthdata.groupby(\"stroke\").count().show()"
   ]
  },
  {
   "cell_type": "markdown",
   "metadata": {},
   "source": [
    "healthdata.groupby(\"work_type\").count().sort(col(\"count\").desc()).show()"
   ]
  },
  {
   "cell_type": "code",
   "execution_count": 289,
   "metadata": {
    "collapsed": true
   },
   "outputs": [],
   "source": [
    "healthdata.createOrReplaceTempView(\"tmptable\")"
   ]
  },
  {
   "cell_type": "code",
   "execution_count": 290,
   "metadata": {},
   "outputs": [
    {
     "name": "stdout",
     "output_type": "stream",
     "text": [
      "+-------------+---------------+\n",
      "|    work_type|work_type_count|\n",
      "+-------------+---------------+\n",
      "|      Private|            441|\n",
      "|Self-employed|            251|\n",
      "|     Govt_job|             89|\n",
      "|     children|              2|\n",
      "+-------------+---------------+\n",
      "\n"
     ]
    }
   ],
   "source": [
    "spark.sql(\"SELECT work_type, count(work_type) as work_type_count FROM tmptable WHERE stroke == 1 \\\n",
    "          GROUP BY work_type ORDER BY work_type_count DESC\").show()"
   ]
  },
  {
   "cell_type": "code",
   "execution_count": 291,
   "metadata": {},
   "outputs": [
    {
     "name": "stdout",
     "output_type": "stream",
     "text": [
      "+------+------------+-------------------+\n",
      "|gender|count_gender|            percent|\n",
      "+------+------------+-------------------+\n",
      "|Female|       25665|  59.13594470046083|\n",
      "| Other|          11|0.02534562211981567|\n",
      "|  Male|       17724|  40.83870967741935|\n",
      "+------+------------+-------------------+\n",
      "\n"
     ]
    }
   ],
   "source": [
    "spark.sql(\"SELECT gender, count(gender) as count_gender, count(gender)*100/sum(count(gender)) \\\n",
    "          over() as percent FROM tmptable GROUP BY gender\").show()"
   ]
  },
  {
   "cell_type": "code",
   "execution_count": 292,
   "metadata": {},
   "outputs": [
    {
     "name": "stdout",
     "output_type": "stream",
     "text": [
      "+------+-------------+----------------+\n",
      "|gender|count(gender)|      percentage|\n",
      "+------+-------------+----------------+\n",
      "|  Male|          352|1.98600767321146|\n",
      "+------+-------------+----------------+\n",
      "\n"
     ]
    }
   ],
   "source": [
    "spark.sql(\"SELECT gender, count(gender), (COUNT(gender) * 100.0) /(SELECT count(gender) FROM tmptable WHERE gender == 'Male') as percentage FROM tmptable \\\n",
    "WHERE stroke = '1' and gender = 'Male' GROUP BY gender\").show()"
   ]
  },
  {
   "cell_type": "code",
   "execution_count": 293,
   "metadata": {},
   "outputs": [
    {
     "name": "stdout",
     "output_type": "stream",
     "text": [
      "+------+-------------+----------------+\n",
      "|gender|count(gender)|      percentage|\n",
      "+------+-------------+----------------+\n",
      "|Female|          431|1.67932982661212|\n",
      "+------+-------------+----------------+\n",
      "\n"
     ]
    }
   ],
   "source": [
    "spark.sql(\"SELECT gender, count(gender), (COUNT(gender) * 100.0) /(SELECT count(gender) FROM tmptable WHERE gender == 'Female') as percentage FROM tmptable \\\n",
    "WHERE stroke = '1' and gender = 'Female' GROUP BY gender\").show()"
   ]
  },
  {
   "cell_type": "code",
   "execution_count": 294,
   "metadata": {},
   "outputs": [
    {
     "name": "stdout",
     "output_type": "stream",
     "text": [
      "+---+---------+------------------+\n",
      "|age|age_count|           percent|\n",
      "+---+---------+------------------+\n",
      "| 31|      592|1.3640552995391706|\n",
      "| 65|      529|1.2188940092165899|\n",
      "| 53|      701|1.6152073732718895|\n",
      "| 78|      698| 1.608294930875576|\n",
      "| 34|      540|1.2442396313364055|\n",
      "| 81|      454|1.0460829493087558|\n",
      "| 28|      540|1.2442396313364055|\n",
      "| 76|      336|0.7741935483870968|\n",
      "| 27|      558|1.2857142857142858|\n",
      "| 26|      503|1.1589861751152073|\n",
      "| 44|      671|1.5460829493087558|\n",
      "| 12|      398|0.9170506912442397|\n",
      "| 22|      503|1.1589861751152073|\n",
      "| 47|      684| 1.576036866359447|\n",
      "|  1|      629|1.4493087557603688|\n",
      "| 52|      721|1.6612903225806452|\n",
      "| 13|      419|0.9654377880184332|\n",
      "| 16|      426|0.9815668202764977|\n",
      "|  6|      246|0.5668202764976958|\n",
      "|  3|      402|0.9262672811059908|\n",
      "+---+---------+------------------+\n",
      "only showing top 20 rows\n",
      "\n"
     ]
    }
   ],
   "source": [
    "spark.sql(\"SELECT age, count(age) as age_count, (COUNT(age) * 100) / (SELECT count(age) FROM tmptable) as percent from tmptable \\\n",
    "GROUP BY age\").show()"
   ]
  },
  {
   "cell_type": "code",
   "execution_count": 295,
   "metadata": {},
   "outputs": [
    {
     "data": {
      "text/plain": [
       "708"
      ]
     },
     "execution_count": 295,
     "metadata": {},
     "output_type": "execute_result"
    }
   ],
   "source": [
    "healthdata.filter((col(\"age\") > 50) & (col(\"stroke\") == 1)).count()"
   ]
  },
  {
   "cell_type": "markdown",
   "metadata": {},
   "source": [
    "## Cleaning the data"
   ]
  },
  {
   "cell_type": "code",
   "execution_count": 296,
   "metadata": {},
   "outputs": [
    {
     "data": {
      "text/plain": [
       "13292"
      ]
     },
     "execution_count": 296,
     "metadata": {},
     "output_type": "execute_result"
    }
   ],
   "source": [
    "healthdata.filter(healthdata[\"smoking_status\"].isNull()).count()"
   ]
  },
  {
   "cell_type": "code",
   "execution_count": 297,
   "metadata": {},
   "outputs": [
    {
     "data": {
      "text/plain": [
       "13292"
      ]
     },
     "execution_count": 297,
     "metadata": {},
     "output_type": "execute_result"
    }
   ],
   "source": [
    "healthdata.where(healthdata[\"smoking_status\"].isNull()).count()"
   ]
  },
  {
   "cell_type": "code",
   "execution_count": 298,
   "metadata": {},
   "outputs": [
    {
     "data": {
      "text/plain": [
       "['id',\n",
       " 'gender',\n",
       " 'age',\n",
       " 'hypertension',\n",
       " 'heart_disease',\n",
       " 'ever_married',\n",
       " 'work_type',\n",
       " 'Residence_type',\n",
       " 'avg_glucose_level',\n",
       " 'bmi',\n",
       " 'smoking_status',\n",
       " 'stroke']"
      ]
     },
     "execution_count": 298,
     "metadata": {},
     "output_type": "execute_result"
    }
   ],
   "source": [
    "healthdata.columns"
   ]
  },
  {
   "cell_type": "code",
   "execution_count": 299,
   "metadata": {},
   "outputs": [
    {
     "name": "stdout",
     "output_type": "stream",
     "text": [
      "Total null values in column bmi is 1462\n",
      "Total null values in column smoking_status is 13292\n"
     ]
    }
   ],
   "source": [
    "for column in healthdata.columns:\n",
    "    count_null = healthdata.filter(healthdata[column].isNull()).count()\n",
    "    if count_null > 0:\n",
    "        print(\"Total null values in column {} is {}\".format(column, count_null))\n",
    "    "
   ]
  },
  {
   "cell_type": "code",
   "execution_count": 300,
   "metadata": {
    "collapsed": true
   },
   "outputs": [],
   "source": [
    "healthdata1 = healthdata.na.fill(\"No Info\", subset = ['smoking_status'])\n"
   ]
  },
  {
   "cell_type": "code",
   "execution_count": 301,
   "metadata": {},
   "outputs": [
    {
     "data": {
      "text/plain": [
       "[Row(avg(bmi)=28.155562973913874)]"
      ]
     },
     "execution_count": 301,
     "metadata": {},
     "output_type": "execute_result"
    }
   ],
   "source": [
    "healthdata1.select(mean(healthdata['bmi'])).collect()"
   ]
  },
  {
   "cell_type": "code",
   "execution_count": 302,
   "metadata": {
    "collapsed": true
   },
   "outputs": [],
   "source": [
    "from pyspark.sql.functions import mean\n",
    "mean = healthdata1.select(mean(healthdata['bmi'])).collect()\n",
    "mean_bmi = mean[0][0]\n",
    "healthdata1 = healthdata1.na.fill(mean_bmi,['bmi'])"
   ]
  },
  {
   "cell_type": "code",
   "execution_count": 303,
   "metadata": {
    "collapsed": true
   },
   "outputs": [],
   "source": [
    "from pyspark.ml.feature import (VectorAssembler,OneHotEncoder,\n",
    "                                StringIndexer)"
   ]
  },
  {
   "cell_type": "code",
   "execution_count": 304,
   "metadata": {
    "collapsed": true
   },
   "outputs": [],
   "source": [
    "gender_indexer = StringIndexer(inputCol=\"gender\", outputCol=\"genderIndexed\")\n",
    "gender_encoder = OneHotEncoder(inputCol=\"genderIndexed\", outputCol=\"genderVector\")\n",
    "ever_married_indexer = StringIndexer(inputCol=\"ever_married\", outputCol=\"ever_marriedIndexed\")\n",
    "ever_married_encoder = OneHotEncoder(inputCol=\"ever_marriedIndexed\", outputCol=\"ever_marriedVector\")\n",
    "work_type_indexer = StringIndexer(inputCol=\"work_type\", outputCol=\"work_typeIndexed\")\n",
    "work_type_encoder = OneHotEncoder(inputCol=\"work_typeIndexed\", outputCol=\"work_typeVector\")\n",
    "Residence_type_indexer = StringIndexer(inputCol=\"Residence_type\", outputCol=\"Residence_typeIndexed\")\n",
    "Residence_type_encoder = OneHotEncoder(inputCol=\"Residence_typeIndexed\", outputCol=\"Residence_typeVector\")\n",
    "smoking_status_indexer = StringIndexer(inputCol=\"smoking_status\", outputCol=\"smoking_statusIndexed\")\n",
    "smoking_status_encoder = OneHotEncoder(inputCol=\"smoking_statusIndexed\", outputCol=\"smoking_statusVector\")"
   ]
  },
  {
   "cell_type": "code",
   "execution_count": 305,
   "metadata": {
    "collapsed": true
   },
   "outputs": [],
   "source": [
    "assembler = VectorAssembler(inputCols=['genderVector',\n",
    " 'age',\n",
    " 'hypertension',\n",
    " 'heart_disease',\n",
    " 'ever_marriedVector',\n",
    " 'work_typeVector',\n",
    " 'Residence_typeVector',\n",
    " 'avg_glucose_level',\n",
    " 'bmi',\n",
    " 'smoking_statusVector'],outputCol='features')"
   ]
  },
  {
   "cell_type": "code",
   "execution_count": 306,
   "metadata": {
    "collapsed": true
   },
   "outputs": [],
   "source": [
    "from pyspark.ml.classification import DecisionTreeClassifier"
   ]
  },
  {
   "cell_type": "code",
   "execution_count": 307,
   "metadata": {
    "collapsed": true
   },
   "outputs": [],
   "source": [
    "dtc = DecisionTreeClassifier(labelCol='stroke',featuresCol='features')"
   ]
  },
  {
   "cell_type": "code",
   "execution_count": 308,
   "metadata": {
    "collapsed": true
   },
   "outputs": [],
   "source": [
    "from pyspark.ml import Pipeline\n",
    "\n",
    "pipeline = Pipeline(stages=[gender_indexer, ever_married_indexer, work_type_indexer, Residence_type_indexer,\n",
    "                           smoking_status_indexer, gender_encoder, ever_married_encoder, work_type_encoder,\n",
    "                           Residence_type_encoder, smoking_status_encoder, assembler, dtc])"
   ]
  },
  {
   "cell_type": "code",
   "execution_count": 309,
   "metadata": {
    "collapsed": true
   },
   "outputs": [],
   "source": [
    "train_data,test_data = healthdata1.randomSplit([0.7,0.3])"
   ]
  },
  {
   "cell_type": "code",
   "execution_count": 310,
   "metadata": {
    "collapsed": true
   },
   "outputs": [],
   "source": [
    "# ,,,,,,,,,,,,,,,,,,,,dt_model = pipeline.fit(train_data)"
   ]
  },
  {
   "cell_type": "code",
   "execution_count": 311,
   "metadata": {
    "collapsed": true
   },
   "outputs": [],
   "source": [
    "dtc_pred = dt_model.transform(test_data)"
   ]
  },
  {
   "cell_type": "code",
   "execution_count": 313,
   "metadata": {},
   "outputs": [
    {
     "name": "stdout",
     "output_type": "stream",
     "text": [
      "+-----+------+---+------------+-------------+------------+---------+--------------+-----------------+---+---------------+------+-------------+-------------------+----------------+---------------------+---------------------+-------------+------------------+---------------+--------------------+--------------------+--------------------+--------------+--------------------+----------+\n",
      "|   id|gender|age|hypertension|heart_disease|ever_married|work_type|Residence_type|avg_glucose_level|bmi| smoking_status|stroke|genderIndexed|ever_marriedIndexed|work_typeIndexed|Residence_typeIndexed|smoking_statusIndexed| genderVector|ever_marriedVector|work_typeVector|Residence_typeVector|smoking_statusVector|            features| rawPrediction|         probability|prediction|\n",
      "+-----+------+---+------------+-------------+------------+---------+--------------+-----------------+---+---------------+------+-------------+-------------------+----------------+---------------------+---------------------+-------------+------------------+---------------+--------------------+--------------------+--------------------+--------------+--------------------+----------+\n",
      "| 1000|Female| 57|           0|            0|         Yes|  Private|         Urban|               77| 28|         smokes|     0|          0.0|                0.0|             0.0|                  0.0|                  3.0|(2,[0],[1.0])|     (1,[0],[1.0])|  (4,[0],[1.0])|       (1,[0],[1.0])|           (3,[],[])|(16,[0,2,5,6,10,1...|[4999.0,109.0]|[0.97866092404072...|       0.0|\n",
      "|10002|  Male| 54|           0|            0|         Yes| Govt_job|         Rural|               72| 37|formerly smoked|     0|          1.0|                0.0|             3.0|                  1.0|                  2.0|(2,[1],[1.0])|     (1,[0],[1.0])|  (4,[3],[1.0])|           (1,[],[])|       (3,[2],[1.0])|(16,[1,2,5,9,11,1...|[4999.0,109.0]|[0.97866092404072...|       0.0|\n",
      "|10008|  Male| 28|           0|            0|         Yes|  Private|         Rural|               99| 24|         smokes|     0|          1.0|                0.0|             0.0|                  1.0|                  3.0|(2,[1],[1.0])|     (1,[0],[1.0])|  (4,[0],[1.0])|           (1,[],[])|           (3,[],[])|(16,[1,2,5,6,11,1...|[19678.0,72.0]|[0.99635443037974...|       0.0|\n",
      "|10010|Female|  9|           0|            0|          No| children|         Urban|               92| 17|        No Info|     0|          0.0|                1.0|             2.0|                  0.0|                  1.0|(2,[0],[1.0])|         (1,[],[])|  (4,[2],[1.0])|       (1,[0],[1.0])|       (3,[1],[1.0])|(16,[0,2,8,10,11,...|[19678.0,72.0]|[0.99635443037974...|       0.0|\n",
      "|10019|  Male| 41|           1|            0|         Yes|  Private|         Urban|              108| 31|formerly smoked|     0|          1.0|                0.0|             0.0|                  0.0|                  2.0|(2,[1],[1.0])|     (1,[0],[1.0])|  (4,[0],[1.0])|       (1,[0],[1.0])|       (3,[2],[1.0])|(16,[1,2,3,5,6,10...|[19678.0,72.0]|[0.99635443037974...|       0.0|\n",
      "|10029|  Male| 50|           0|            0|         Yes|  Private|         Urban|               87| 28|         smokes|     0|          1.0|                0.0|             0.0|                  0.0|                  3.0|(2,[1],[1.0])|     (1,[0],[1.0])|  (4,[0],[1.0])|       (1,[0],[1.0])|           (3,[],[])|(16,[1,2,5,6,10,1...|[19678.0,72.0]|[0.99635443037974...|       0.0|\n",
      "|10034|Female|  4|           0|            0|          No| children|         Rural|               81| 17|        No Info|     0|          0.0|                1.0|             2.0|                  1.0|                  1.0|(2,[0],[1.0])|         (1,[],[])|  (4,[2],[1.0])|           (1,[],[])|       (3,[1],[1.0])|(16,[0,2,8,11,12,...|[19678.0,72.0]|[0.99635443037974...|       0.0|\n",
      "|10037|Female| 44|           0|            0|          No| Govt_job|         Rural|               80| 28|   never smoked|     0|          0.0|                1.0|             3.0|                  1.0|                  0.0|(2,[0],[1.0])|         (1,[],[])|  (4,[3],[1.0])|           (1,[],[])|       (3,[0],[1.0])|(16,[0,2,9,11,12,...|[19678.0,72.0]|[0.99635443037974...|       0.0|\n",
      "|10051|Female| 45|           0|            0|         Yes|  Private|         Urban|              124| 30|   never smoked|     0|          0.0|                0.0|             0.0|                  0.0|                  0.0|(2,[0],[1.0])|     (1,[0],[1.0])|  (4,[0],[1.0])|       (1,[0],[1.0])|       (3,[0],[1.0])|(16,[0,2,5,6,10,1...|[19678.0,72.0]|[0.99635443037974...|       0.0|\n",
      "|10062|Female| 70|           0|            1|         Yes|  Private|         Urban|              226| 25|        No Info|     0|          0.0|                0.0|             0.0|                  0.0|                  1.0|(2,[0],[1.0])|     (1,[0],[1.0])|  (4,[0],[1.0])|       (1,[0],[1.0])|       (3,[1],[1.0])|(16,[0,2,4,5,6,10...|  [621.0,93.0]|[0.86974789915966...|       0.0|\n",
      "|10069|Female| 56|           0|            0|         Yes|  Private|         Urban|               99| 30|formerly smoked|     0|          0.0|                0.0|             0.0|                  0.0|                  2.0|(2,[0],[1.0])|     (1,[0],[1.0])|  (4,[0],[1.0])|       (1,[0],[1.0])|       (3,[2],[1.0])|(16,[0,2,5,6,10,1...|[4999.0,109.0]|[0.97866092404072...|       0.0|\n",
      "|10071|Female| 35|           0|            0|          No|  Private|         Urban|              110| 35|formerly smoked|     0|          0.0|                1.0|             0.0|                  0.0|                  2.0|(2,[0],[1.0])|         (1,[],[])|  (4,[0],[1.0])|       (1,[0],[1.0])|       (3,[2],[1.0])|(16,[0,2,6,10,11,...|[19678.0,72.0]|[0.99635443037974...|       0.0|\n",
      "|10077|Female| 77|           1|            0|         Yes| Govt_job|         Urban|              216| 37|   never smoked|     0|          0.0|                0.0|             3.0|                  0.0|                  0.0|(2,[0],[1.0])|     (1,[0],[1.0])|  (4,[3],[1.0])|       (1,[0],[1.0])|       (3,[0],[1.0])|(16,[0,2,3,5,9,10...|[2036.0,169.0]|[0.92335600907029...|       0.0|\n",
      "| 1008|  Male| 72|           0|            0|         Yes|  Private|         Urban|               80| 39|        No Info|     0|          1.0|                0.0|             0.0|                  0.0|                  1.0|(2,[1],[1.0])|     (1,[0],[1.0])|  (4,[0],[1.0])|       (1,[0],[1.0])|       (3,[1],[1.0])|(16,[1,2,5,6,10,1...| [1698.0,68.0]|[0.96149490373725...|       0.0|\n",
      "| 1009|Female| 77|           0|            0|         Yes|  Private|         Rural|               85| 21|   never smoked|     0|          0.0|                0.0|             0.0|                  1.0|                  0.0|(2,[0],[1.0])|     (1,[0],[1.0])|  (4,[0],[1.0])|           (1,[],[])|       (3,[0],[1.0])|(16,[0,2,5,6,11,1...|[2036.0,169.0]|[0.92335600907029...|       0.0|\n",
      "|10093|  Male| 12|           0|            0|          No| children|         Rural|               72| 24|   never smoked|     0|          1.0|                1.0|             2.0|                  1.0|                  0.0|(2,[1],[1.0])|         (1,[],[])|  (4,[2],[1.0])|           (1,[],[])|       (3,[0],[1.0])|(16,[1,2,8,11,12,...|[19678.0,72.0]|[0.99635443037974...|       0.0|\n",
      "|10095|Female| 44|           0|            0|          No| Govt_job|         Urban|               84| 30|   never smoked|     0|          0.0|                1.0|             3.0|                  0.0|                  0.0|(2,[0],[1.0])|         (1,[],[])|  (4,[3],[1.0])|       (1,[0],[1.0])|       (3,[0],[1.0])|(16,[0,2,9,10,11,...|[19678.0,72.0]|[0.99635443037974...|       0.0|\n",
      "|10112|Female| 71|           0|            0|         Yes|  Private|         Rural|               97| 27|   never smoked|     0|          0.0|                0.0|             0.0|                  1.0|                  0.0|(2,[0],[1.0])|     (1,[0],[1.0])|  (4,[0],[1.0])|           (1,[],[])|       (3,[0],[1.0])|(16,[0,2,5,6,11,1...| [1698.0,68.0]|[0.96149490373725...|       0.0|\n",
      "|10114|Female| 26|           0|            0|          No|  Private|         Rural|               80| 35|   never smoked|     0|          0.0|                1.0|             0.0|                  1.0|                  0.0|(2,[0],[1.0])|         (1,[],[])|  (4,[0],[1.0])|           (1,[],[])|       (3,[0],[1.0])|(16,[0,2,6,11,12,...|[19678.0,72.0]|[0.99635443037974...|       0.0|\n",
      "|10118|Female| 56|           0|            0|         Yes|  Private|         Rural|              178| 37|   never smoked|     0|          0.0|                0.0|             0.0|                  1.0|                  0.0|(2,[0],[1.0])|     (1,[0],[1.0])|  (4,[0],[1.0])|           (1,[],[])|       (3,[0],[1.0])|(16,[0,2,5,6,11,1...|[4999.0,109.0]|[0.97866092404072...|       0.0|\n",
      "+-----+------+---+------------+-------------+------------+---------+--------------+-----------------+---+---------------+------+-------------+-------------------+----------------+---------------------+---------------------+-------------+------------------+---------------+--------------------+--------------------+--------------------+--------------+--------------------+----------+\n",
      "only showing top 20 rows\n",
      "\n"
     ]
    }
   ],
   "source": [
    "dtc_pred.show()"
   ]
  },
  {
   "cell_type": "code",
   "execution_count": 314,
   "metadata": {
    "collapsed": true
   },
   "outputs": [],
   "source": [
    "from pyspark.ml.evaluation import MulticlassClassificationEvaluator\n",
    "acc_evaluator = MulticlassClassificationEvaluator(labelCol=\"stroke\", predictionCol=\"prediction\", metricName=\"accuracy\")"
   ]
  },
  {
   "cell_type": "code",
   "execution_count": 315,
   "metadata": {
    "collapsed": true
   },
   "outputs": [],
   "source": [
    "dtc_acc = acc_evaluator.evaluate(dtc_pred)"
   ]
  },
  {
   "cell_type": "code",
   "execution_count": 317,
   "metadata": {},
   "outputs": [
    {
     "data": {
      "text/plain": [
       "0.9833206397562834"
      ]
     },
     "execution_count": 317,
     "metadata": {},
     "output_type": "execute_result"
    }
   ],
   "source": [
    "dtc_acc"
   ]
  },
  {
   "cell_type": "code",
   "execution_count": 318,
   "metadata": {},
   "outputs": [
    {
     "name": "stdout",
     "output_type": "stream",
     "text": [
      "A Decision Tree algorithm had an accuracy of: 98.33%\n"
     ]
    }
   ],
   "source": [
    "print('A Decision Tree algorithm had an accuracy of: {0:2.2f}%'.format(dtc_acc*100))"
   ]
  },
  {
   "cell_type": "code",
   "execution_count": null,
   "metadata": {
    "collapsed": true
   },
   "outputs": [],
   "source": []
  }
 ],
 "metadata": {
  "kernelspec": {
   "display_name": "Python 3",
   "language": "python",
   "name": "python3"
  },
  "language_info": {
   "codemirror_mode": {
    "name": "ipython",
    "version": 3
   },
   "file_extension": ".py",
   "mimetype": "text/x-python",
   "name": "python",
   "nbconvert_exporter": "python",
   "pygments_lexer": "ipython3",
   "version": "3.6.2"
  }
 },
 "nbformat": 4,
 "nbformat_minor": 2
}
